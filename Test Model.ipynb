{
 "cells": [
  {
   "cell_type": "code",
   "id": "initial_id",
   "metadata": {
    "collapsed": true,
    "ExecuteTime": {
     "end_time": "2024-05-20T12:26:26.009258Z",
     "start_time": "2024-05-20T12:26:25.785123Z"
    }
   },
   "source": "from Regularization import *",
   "outputs": [],
   "execution_count": 1
  },
  {
   "metadata": {
    "ExecuteTime": {
     "end_time": "2024-05-20T12:26:27.270496Z",
     "start_time": "2024-05-20T12:26:26.009258Z"
    }
   },
   "cell_type": "code",
   "source": "from sklearn.model_selection import train_test_split",
   "id": "ec49004d508c8ccc",
   "outputs": [],
   "execution_count": 2
  },
  {
   "metadata": {
    "ExecuteTime": {
     "end_time": "2024-05-20T12:26:27.418002Z",
     "start_time": "2024-05-20T12:26:27.270496Z"
    }
   },
   "cell_type": "code",
   "source": [
    "import sklearn\n",
    "from sklearn.datasets import load_breast_cancer\n",
    "breast = load_breast_cancer(return_X_y=True)\n",
    "B,c = breast"
   ],
   "id": "f5e11e257d57eee",
   "outputs": [],
   "execution_count": 3
  },
  {
   "metadata": {
    "ExecuteTime": {
     "end_time": "2024-05-20T12:26:27.434169Z",
     "start_time": "2024-05-20T12:26:27.418002Z"
    }
   },
   "cell_type": "code",
   "source": [
    "B = np.array(B)\n",
    "c = np.array(c)\n",
    "\n",
    "B_train, B_test, c_train, c_test = train_test_split(B,c, test_size=0.2)\n",
    "print(B_train.shape)\n",
    "print(B_test.shape)\n",
    "print(c_train.shape)\n",
    "print(c_test.shape)\n",
    "print(B_train.shape[0])"
   ],
   "id": "afad067d4bc9ba38",
   "outputs": [
    {
     "name": "stdout",
     "output_type": "stream",
     "text": [
      "(455, 30)\n",
      "(114, 30)\n",
      "(455,)\n",
      "(114,)\n",
      "455\n"
     ]
    }
   ],
   "execution_count": 4
  },
  {
   "metadata": {
    "ExecuteTime": {
     "end_time": "2024-05-20T12:26:27.449858Z",
     "start_time": "2024-05-20T12:26:27.437939Z"
    }
   },
   "cell_type": "code",
   "source": [
    "B_train = B_train.reshape(B_train.shape[0], B_train.shape[1]).T\n",
    "B_test =  B_test.reshape(B_test.shape[0], B_test.shape[1]).T\n",
    "c_train = c_train.reshape(c_train.shape[0],-1).T\n",
    "c_test = c_test.reshape(c_test.shape[0],-1).T\n",
    "print(B_train.shape)\n",
    "print(B_test.shape)\n",
    "print(c_train.shape)\n",
    "print(c_test.shape)"
   ],
   "id": "9e850ba90b25309e",
   "outputs": [
    {
     "name": "stdout",
     "output_type": "stream",
     "text": [
      "(30, 455)\n",
      "(30, 114)\n",
      "(1, 455)\n",
      "(1, 114)\n"
     ]
    }
   ],
   "execution_count": 5
  },
  {
   "metadata": {
    "ExecuteTime": {
     "end_time": "2024-05-20T12:26:27.462300Z",
     "start_time": "2024-05-20T12:26:27.453866Z"
    }
   },
   "cell_type": "code",
   "source": "alls = Models(B_train,c_train,20000,print_cost=True)",
   "id": "7aafb1b74f29c8fa",
   "outputs": [],
   "execution_count": 6
  },
  {
   "metadata": {
    "ExecuteTime": {
     "end_time": "2024-05-20T12:26:27.478231Z",
     "start_time": "2024-05-20T12:26:27.462300Z"
    }
   },
   "cell_type": "code",
   "source": "from Regularization_p2 import *",
   "id": "d82007c013c2ba97",
   "outputs": [],
   "execution_count": 7
  },
  {
   "metadata": {
    "ExecuteTime": {
     "end_time": "2024-05-20T12:26:27.488602Z",
     "start_time": "2024-05-20T12:26:27.479237Z"
    }
   },
   "cell_type": "code",
   "source": "params = model(B_train,c_train, 20000,0.7, print_cost=True)",
   "id": "63ee30a2b2458b7b",
   "outputs": [],
   "execution_count": 8
  },
  {
   "metadata": {
    "ExecuteTime": {
     "end_time": "2024-05-20T12:26:27.499586Z",
     "start_time": "2024-05-20T12:26:27.488602Z"
    }
   },
   "cell_type": "code",
   "source": "params2 = model(B_train,c_train, 20000,0.8, print_cost=True)",
   "id": "84b9b13c76eb9c29",
   "outputs": [],
   "execution_count": 9
  },
  {
   "metadata": {
    "ExecuteTime": {
     "end_time": "2024-05-20T12:26:27.511307Z",
     "start_time": "2024-05-20T12:26:27.502933Z"
    }
   },
   "cell_type": "code",
   "source": "from Regularization_p3 import *",
   "id": "900a1b6cc501073c",
   "outputs": [],
   "execution_count": 10
  },
  {
   "metadata": {
    "ExecuteTime": {
     "end_time": "2024-05-20T12:26:27.522232Z",
     "start_time": "2024-05-20T12:26:27.511307Z"
    }
   },
   "cell_type": "code",
   "source": "#regs = model_L2reg(B_train,c_train,20000,2,0.01,print_cost=True)",
   "id": "a7360860aea2e1e1",
   "outputs": [],
   "execution_count": 11
  },
  {
   "metadata": {
    "ExecuteTime": {
     "end_time": "2024-05-20T12:26:27.548264Z",
     "start_time": "2024-05-20T12:26:27.522232Z"
    }
   },
   "cell_type": "code",
   "source": "from Regularization_all import *",
   "id": "3e3b613f506563b4",
   "outputs": [],
   "execution_count": 12
  },
  {
   "metadata": {},
   "cell_type": "markdown",
   "source": "",
   "id": "5a6b31e26776699e"
  },
  {
   "metadata": {
    "ExecuteTime": {
     "end_time": "2024-05-20T12:27:34.659586Z",
     "start_time": "2024-05-20T12:26:27.550523Z"
    }
   },
   "cell_type": "code",
   "source": "another = models_all(B_train,c_train,0.01,0.8,0,20000,print_cost=True)",
   "id": "6ca701e614c3c6da",
   "outputs": [
    {
     "name": "stdout",
     "output_type": "stream",
     "text": [
      "Epochs: 0: >>>>>>>>>>>>>>>>>>>>>>>>>>>>> Cost: 0.6923019137497823, Accuracy: 0.3956043956043956\n",
      "Epochs: 1000: >>>>>>>>>>>>>>>>>>>>>>>>>>>>> Cost: 0.27116515218887743, Accuracy: 0.8989010989010989\n",
      "Epochs: 2000: >>>>>>>>>>>>>>>>>>>>>>>>>>>>> Cost: 0.21443224909735964, Accuracy: 0.9098901098901099\n",
      "Epochs: 3000: >>>>>>>>>>>>>>>>>>>>>>>>>>>>> Cost: 0.2107587382442689, Accuracy: 0.9230769230769231\n",
      "Epochs: 4000: >>>>>>>>>>>>>>>>>>>>>>>>>>>>> Cost: 0.19835537473294113, Accuracy: 0.9230769230769231\n",
      "Epochs: 5000: >>>>>>>>>>>>>>>>>>>>>>>>>>>>> Cost: 0.2062552857311614, Accuracy: 0.9296703296703297\n",
      "Epochs: 6000: >>>>>>>>>>>>>>>>>>>>>>>>>>>>> Cost: 0.1987882625301984, Accuracy: 0.9208791208791208\n",
      "Epochs: 7000: >>>>>>>>>>>>>>>>>>>>>>>>>>>>> Cost: 0.20787314318658656, Accuracy: 0.9186813186813186\n",
      "Epochs: 8000: >>>>>>>>>>>>>>>>>>>>>>>>>>>>> Cost: 0.1904043931240997, Accuracy: 0.9252747252747253\n",
      "Epochs: 9000: >>>>>>>>>>>>>>>>>>>>>>>>>>>>> Cost: 0.1820161072903258, Accuracy: 0.9252747252747253\n"
     ]
    },
    {
     "name": "stderr",
     "output_type": "stream",
     "text": [
      "C:\\Users\\Dell\\PycharmProjects\\Deep Learning\\Regularization_all.py:91: RuntimeWarning: divide by zero encountered in log\n",
      "  cost = -1. / m * (np.dot(Y, np.log(A3).T) + np.dot(1 - Y, np.log(1 - A3).T))\n"
     ]
    },
    {
     "name": "stdout",
     "output_type": "stream",
     "text": [
      "Epochs: 10000: >>>>>>>>>>>>>>>>>>>>>>>>>>>>> Cost: 0.18874390323416038, Accuracy: 0.9252747252747253\n",
      "Epochs: 11000: >>>>>>>>>>>>>>>>>>>>>>>>>>>>> Cost: 0.18883813444280223, Accuracy: 0.9274725274725275\n",
      "Epochs: 12000: >>>>>>>>>>>>>>>>>>>>>>>>>>>>> Cost: 0.2066780393348636, Accuracy: 0.9318681318681319\n",
      "Epochs: 13000: >>>>>>>>>>>>>>>>>>>>>>>>>>>>> Cost: 0.17155679235180352, Accuracy: 0.9296703296703297\n",
      "Epochs: 14000: >>>>>>>>>>>>>>>>>>>>>>>>>>>>> Cost: 0.1610338558083223, Accuracy: 0.9318681318681319\n",
      "Epochs: 15000: >>>>>>>>>>>>>>>>>>>>>>>>>>>>> Cost: 0.17104923551407317, Accuracy: 0.9274725274725275\n",
      "Epochs: 16000: >>>>>>>>>>>>>>>>>>>>>>>>>>>>> Cost: 0.16034436655740733, Accuracy: 0.9142857142857143\n",
      "Epochs: 17000: >>>>>>>>>>>>>>>>>>>>>>>>>>>>> Cost: nan, Accuracy: 0.9230769230769231\n",
      "Epochs: 18000: >>>>>>>>>>>>>>>>>>>>>>>>>>>>> Cost: nan, Accuracy: 0.9340659340659341\n",
      "Epochs: 19000: >>>>>>>>>>>>>>>>>>>>>>>>>>>>> Cost: nan, Accuracy: 0.9340659340659341\n"
     ]
    }
   ],
   "execution_count": 13
  },
  {
   "metadata": {
    "ExecuteTime": {
     "end_time": "2024-05-20T12:27:34.670532Z",
     "start_time": "2024-05-20T12:27:34.661248Z"
    }
   },
   "cell_type": "code",
   "source": "",
   "id": "f499ec91dc22eb9c",
   "outputs": [],
   "execution_count": 13
  }
 ],
 "metadata": {
  "kernelspec": {
   "display_name": "Python 3",
   "language": "python",
   "name": "python3"
  },
  "language_info": {
   "codemirror_mode": {
    "name": "ipython",
    "version": 2
   },
   "file_extension": ".py",
   "mimetype": "text/x-python",
   "name": "python",
   "nbconvert_exporter": "python",
   "pygments_lexer": "ipython2",
   "version": "2.7.6"
  }
 },
 "nbformat": 4,
 "nbformat_minor": 5
}
